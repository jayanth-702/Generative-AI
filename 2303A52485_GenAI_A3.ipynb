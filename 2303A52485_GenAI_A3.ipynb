{
  "nbformat": 4,
  "nbformat_minor": 0,
  "metadata": {
    "colab": {
      "provenance": []
    },
    "kernelspec": {
      "name": "python3",
      "display_name": "Python 3"
    },
    "language_info": {
      "name": "python"
    }
  },
  "cells": [
    {
      "source": [
        "def f(x):\n",
        "  return 5 * x**4 + 3 * x**2 + 10\n",
        "\n",
        "def gradient_f(x):\n",
        "  return 20 * x**3 + 6 * x\n",
        "\n",
        "\n",
        "learning_rate = 0.01\n",
        "iterations = 10\n",
        "x = 1\n",
        "\n",
        "\n",
        "for i in range(iterations):\n",
        "    gradient = gradient_f(x)\n",
        "    x = x - learning_rate * gradient\n",
        "    print(f\"Iteration {i+1}: x = {x:.4f}, f(x) = {f(x):.4f}\")\n",
        "\n",
        "print(\"Minimum value of f(x) occurs at x =\", x)\n",
        "print(\"Minimum value of f(x) is\", f(x))"
      ],
      "cell_type": "code",
      "metadata": {
        "colab": {
          "base_uri": "https://localhost:8080/"
        },
        "id": "nVnfHZ29SBIj",
        "outputId": "af6b7f3d-de91-4851-d5c5-a3bb6f048002"
      },
      "execution_count": null,
      "outputs": [
        {
          "output_type": "stream",
          "name": "stdout",
          "text": [
            "Iteration 1: x = 0.7400, f(x) = 13.1421\n",
            "Iteration 2: x = 0.6146, f(x) = 11.8462\n",
            "Iteration 3: x = 0.5313, f(x) = 11.2450\n",
            "Iteration 4: x = 0.4694, f(x) = 10.9037\n",
            "Iteration 5: x = 0.4205, f(x) = 10.6870\n",
            "Iteration 6: x = 0.3804, f(x) = 10.5389\n",
            "Iteration 7: x = 0.3466, f(x) = 10.4326\n",
            "Iteration 8: x = 0.3175, f(x) = 10.3532\n",
            "Iteration 9: x = 0.2920, f(x) = 10.2922\n",
            "Iteration 10: x = 0.2695, f(x) = 10.2443\n",
            "Minimum value of f(x) occurs at x = 0.2695261335763863\n",
            "Minimum value of f(x) is 10.244319008300756\n"
          ]
        }
      ]
    },
    {
      "cell_type": "code",
      "source": [
        "import math\n",
        "\n",
        "def g(x, y):\n",
        "  return 3 * x**2 + 5 * math.exp(-y) + 10\n",
        "\n",
        "def gradient_g_x(x):\n",
        "  return 6 * x\n",
        "\n",
        "def gradient_g_y(y):\n",
        "  return -5 * math.exp(-y)\n",
        "\n",
        "learning_rate = 0.01\n",
        "iterations = 10\n",
        "x = 1\n",
        "y = 1\n",
        "\n",
        "for i in range(iterations):\n",
        "    gradient_x = gradient_g_x(x)\n",
        "    gradient_y = gradient_g_y(y)\n",
        "    x = x - learning_rate * gradient_x\n",
        "    y = y - learning_rate * gradient_y\n",
        "    print(f\"Iteration {i+1}: x = {x:.4f}, y = {y:.4f}, g(x,y) = {g(x,y):.4f}\")\n",
        "\n",
        "print(\"Minimum value of g(x,y) occurs at x =\", x)\n",
        "print(\"Minimum value of g(x,y) occurs at y =\", y)\n",
        "print(\"Minimum value of g(x,y) is\", g(x,y))"
      ],
      "metadata": {
        "id": "Cv-3EfGZTNe8",
        "colab": {
          "base_uri": "https://localhost:8080/"
        },
        "outputId": "69b21dbb-5e98-40e7-c2a1-86d0d11d23ac"
      },
      "execution_count": 10,
      "outputs": [
        {
          "output_type": "stream",
          "name": "stdout",
          "text": [
            "Iteration 1: x = 0.9400, y = 1.0184, g(x,y) = 14.4567\n",
            "Iteration 2: x = 0.8836, y = 1.0365, g(x,y) = 14.1158\n",
            "Iteration 3: x = 0.8306, y = 1.0542, g(x,y) = 13.8120\n",
            "Iteration 4: x = 0.7807, y = 1.0716, g(x,y) = 13.5410\n",
            "Iteration 5: x = 0.7339, y = 1.0887, g(x,y) = 13.2991\n",
            "Iteration 6: x = 0.6899, y = 1.1056, g(x,y) = 13.0829\n",
            "Iteration 7: x = 0.6485, y = 1.1221, g(x,y) = 12.8895\n",
            "Iteration 8: x = 0.6096, y = 1.1384, g(x,y) = 12.7164\n",
            "Iteration 9: x = 0.5730, y = 1.1544, g(x,y) = 12.5612\n",
            "Iteration 10: x = 0.5386, y = 1.1702, g(x,y) = 12.4219\n",
            "Minimum value of g(x,y) occurs at x = 0.5386151140948996\n",
            "Minimum value of g(x,y) occurs at y = 1.1701762392765598\n",
            "Minimum value of g(x,y) is 12.421879959594623\n"
          ]
        }
      ]
    },
    {
      "cell_type": "code",
      "source": [
        "import math\n",
        "\n",
        "def sigmoid(x):\n",
        "  return 1 / (1 + math.exp(-x))\n",
        "\n",
        "def gradient_sigmoid(x):\n",
        "  return sigmoid(x) * (1 - sigmoid(x))\n",
        "\n",
        "learning_rate = 0.1\n",
        "iterations = 10\n",
        "x = 1\n",
        "\n",
        "for i in range(iterations):\n",
        "    gradient = gradient_sigmoid(x)\n",
        "    x = x - learning_rate * gradient\n",
        "    print(f\"Iteration {i+1}: x = {x:.4f}, z(x) = {sigmoid(x):.4f}\")\n",
        "\n",
        "print(\"Minimum value of z(x) occurs at approximately x =\", x)"
      ],
      "metadata": {
        "colab": {
          "base_uri": "https://localhost:8080/"
        },
        "id": "Vcq_o5vQULcc",
        "outputId": "7675d1bd-07c9-437c-87aa-8b8db243680e"
      },
      "execution_count": 11,
      "outputs": [
        {
          "output_type": "stream",
          "name": "stdout",
          "text": [
            "Iteration 1: x = 0.9803, z(x) = 0.7272\n",
            "Iteration 2: x = 0.9605, z(x) = 0.7232\n",
            "Iteration 3: x = 0.9405, z(x) = 0.7192\n",
            "Iteration 4: x = 0.9203, z(x) = 0.7151\n",
            "Iteration 5: x = 0.8999, z(x) = 0.7109\n",
            "Iteration 6: x = 0.8794, z(x) = 0.7067\n",
            "Iteration 7: x = 0.8586, z(x) = 0.7024\n",
            "Iteration 8: x = 0.8377, z(x) = 0.6980\n",
            "Iteration 9: x = 0.8167, z(x) = 0.6935\n",
            "Iteration 10: x = 0.7954, z(x) = 0.6890\n",
            "Minimum value of z(x) occurs at approximately x = 0.7953960110320217\n"
          ]
        }
      ]
    },
    {
      "cell_type": "code",
      "source": [
        "def square_error(expected, predicted):\n",
        "  return (expected - predicted)**2\n",
        "\n",
        "def model(M, C, x):\n",
        "\n",
        "  return M * x + C\n",
        "\n",
        "\n",
        "data = [(1, 2), (2, 4), (3, 5), (4, 4), (5, 5)]\n",
        "\n",
        "\n",
        "M = 1\n",
        "C = 1\n",
        "\n",
        "\n",
        "learning_rate = 0.01\n",
        "iterations = 10\n",
        "\n",
        "for _ in range(iterations):\n",
        "  total_error_M = 0\n",
        "  total_error_C = 0\n",
        "\n",
        "  for x, expected_output in data:\n",
        "    predicted_output = model(M, C, x)\n",
        "    error = square_error(expected_output, predicted_output)\n",
        "\n",
        "\n",
        "    gradient_M = 2 * (predicted_output - expected_output) * x\n",
        "    gradient_C = 2 * (predicted_output - expected_output)\n",
        "\n",
        "    total_error_M += gradient_M\n",
        "    total_error_C += gradient_C\n",
        "\n",
        "  M -= learning_rate * (total_error_M / len(data))\n",
        "  C -= learning_rate * (total_error_C / len(data))\n",
        "\n",
        "  total_se = 0\n",
        "  for x, expected_output in data:\n",
        "    predicted_output = model(M,C,x)\n",
        "    total_se += square_error(expected_output, predicted_output)\n",
        "  print(f\"M = {M:.4f}, C = {C:.4f}, Square Error = {total_se:.4f}\")\n",
        "\n",
        "\n",
        "print(\"Optimal values:\")\n",
        "print(f\"M = {M:.4f}\")\n",
        "print(f\"C = {C:.4f}\")"
      ],
      "metadata": {
        "colab": {
          "base_uri": "https://localhost:8080/"
        },
        "id": "pQnYyp2FUod2",
        "outputId": "f9edadf1-b8e6-4362-b489-70960425d33a"
      },
      "execution_count": 12,
      "outputs": [
        {
          "output_type": "stream",
          "name": "stdout",
          "text": [
            "M = 0.9840, C = 1.0000, Square Error = 3.8861\n",
            "M = 0.9715, C = 1.0010, Square Error = 3.8160\n",
            "M = 0.9617, C = 1.0026, Square Error = 3.7714\n",
            "M = 0.9540, C = 1.0049, Square Error = 3.7417\n",
            "M = 0.9478, C = 1.0076, Square Error = 3.7208\n",
            "M = 0.9428, C = 1.0105, Square Error = 3.7049\n",
            "M = 0.9388, C = 1.0138, Square Error = 3.6921\n",
            "M = 0.9354, C = 1.0172, Square Error = 3.6810\n",
            "M = 0.9326, C = 1.0207, Square Error = 3.6710\n",
            "M = 0.9302, C = 1.0243, Square Error = 3.6616\n",
            "Optimal values:\n",
            "M = 0.9302\n",
            "C = 1.0243\n"
          ]
        }
      ]
    }
  ]
}