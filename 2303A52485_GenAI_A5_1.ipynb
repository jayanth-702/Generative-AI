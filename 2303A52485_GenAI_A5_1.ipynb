{
  "nbformat": 4,
  "nbformat_minor": 0,
  "metadata": {
    "colab": {
      "provenance": []
    },
    "kernelspec": {
      "name": "python3",
      "display_name": "Python 3"
    },
    "language_info": {
      "name": "python"
    }
  },
  "cells": [
    {
      "cell_type": "code",
      "source": [
        "import numpy as np\n",
        "\n",
        "# Activation functions\n",
        "def sigmoid(x):\n",
        "  return 1 / (1 + np.exp(-x))\n",
        "\n",
        "def sigmoid_derivative(x):\n",
        "  return x * (1 - x)\n",
        "\n",
        "# Training data\n",
        "X_train = np.array([[0.1, 0.2], [0.2, 0.3], [0.3, 0.4], [0.6, 0.7], [0.7, 0.8], [0.8, 0.9]])\n",
        "y_train = np.array([[0.3432], [0.3490], [0.3548], [0.3720], [0.3776], [0.3832]])\n",
        "\n",
        "# Test data\n",
        "X_test = np.array([[0.4, 0.5], [0.5, 0.6]])\n",
        "y_test = np.array([[0.3606], [0.3663]])\n",
        "\n",
        "# Initialize weights and biases\n",
        "input_neurons = 2\n",
        "hidden_neurons = 2  # You can adjust this\n",
        "output_neurons = 1\n",
        "\n",
        "np.random.seed(0) # for consistent results\n",
        "weights_input_hidden = np.random.uniform(size=(input_neurons, hidden_neurons))\n",
        "bias_hidden = np.random.uniform(size=(1, hidden_neurons))\n",
        "weights_hidden_output = np.random.uniform(size=(hidden_neurons, output_neurons))\n",
        "bias_output = np.random.uniform(size=(1, output_neurons))\n",
        "\n",
        "# Hyperparameters\n",
        "learning_rate = 0.1\n",
        "epochs = 10000\n",
        "\n",
        "# Training the ANN\n",
        "for epoch in range(epochs):\n",
        "  # Forward propagation\n",
        "  hidden_layer_input = np.dot(X_train, weights_input_hidden) + bias_hidden\n",
        "  hidden_layer_output = sigmoid(hidden_layer_input)\n",
        "  output_layer_input = np.dot(hidden_layer_output, weights_hidden_output) + bias_output\n",
        "  output_layer_output = output_layer_input # Linear activation\n",
        "\n",
        "  # Backpropagation\n",
        "  error = y_train - output_layer_output\n",
        "  d_output = error\n",
        "  d_hidden_layer = d_output.dot(weights_hidden_output.T) * sigmoid_derivative(hidden_layer_output)\n",
        "\n",
        "  # Update weights and biases\n",
        "  weights_hidden_output += hidden_layer_output.T.dot(d_output) * learning_rate\n",
        "  bias_output += np.sum(d_output, axis=0, keepdims=True) * learning_rate\n",
        "  weights_input_hidden += X_train.T.dot(d_hidden_layer) * learning_rate\n",
        "  bias_hidden += np.sum(d_hidden_layer, axis=0, keepdims=True) * learning_rate\n",
        "\n",
        "\n",
        "# Mean Squared Error calculation\n",
        "def mean_squared_error(y_true, y_pred):\n",
        "    return np.mean(np.square(y_true - y_pred))\n",
        "\n",
        "# Training error\n",
        "train_pred = np.dot(sigmoid(np.dot(X_train, weights_input_hidden) + bias_hidden), weights_hidden_output) + bias_output\n",
        "train_mse = mean_squared_error(y_train, train_pred)\n",
        "print(f\"Training MSE: {train_mse}\")\n",
        "\n",
        "# Testing error\n",
        "test_pred = np.dot(sigmoid(np.dot(X_test, weights_input_hidden) + bias_hidden), weights_hidden_output) + bias_output\n",
        "test_mse = mean_squared_error(y_test, test_pred)\n",
        "print(f\"Testing MSE: {test_mse}\")\n",
        "\n",
        "\n",
        "# Prediction with user input\n",
        "x1 = float(input(\"Enter x1: \"))\n",
        "x2 = float(input(\"Enter x2: \"))\n",
        "user_input = np.array([[x1, x2]])\n",
        "\n",
        "user_prediction = np.dot(sigmoid(np.dot(user_input, weights_input_hidden) + bias_hidden), weights_hidden_output) + bias_output\n",
        "print(f\"Predicted output for ({x1}, {x2}): {user_prediction[0][0]}\")\n"
      ],
      "metadata": {
        "colab": {
          "base_uri": "https://localhost:8080/"
        },
        "id": "tV7g0QuinWE_",
        "outputId": "3fe6a472-72e7-46e9-bd12-959c3f1df40e"
      },
      "execution_count": 6,
      "outputs": [
        {
          "output_type": "stream",
          "name": "stdout",
          "text": [
            "Training MSE: 3.5709907974626984e-07\n",
            "Testing MSE: 9.182777664648506e-07\n",
            "Enter x1: 0.1\n",
            "Enter x2: 0.2\n",
            "Predicted output for (0.1, 0.2): 0.3424593739354638\n"
          ]
        }
      ]
    }
  ]
}